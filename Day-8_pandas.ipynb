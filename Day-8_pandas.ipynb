{
 "cells": [
  {
   "cell_type": "code",
   "execution_count": 1,
   "metadata": {},
   "outputs": [],
   "source": [
    "import pandas as pd\n",
    "import numpy as np"
   ]
  },
  {
   "cell_type": "code",
   "execution_count": 2,
   "metadata": {},
   "outputs": [],
   "source": [
    "df = pd.read_csv('../lecture7/movies.csv')"
   ]
  },
  {
   "cell_type": "markdown",
   "metadata": {},
   "source": [
    "## **Methods of Pandas**"
   ]
  },
  {
   "cell_type": "code",
   "execution_count": 3,
   "metadata": {},
   "outputs": [
    {
     "name": "stdout",
     "output_type": "stream",
     "text": [
      "<class 'pandas.core.frame.DataFrame'>\n",
      "RangeIndex: 1629 entries, 0 to 1628\n",
      "Data columns (total 18 columns):\n",
      " #   Column            Non-Null Count  Dtype  \n",
      "---  ------            --------------  -----  \n",
      " 0   title_x           1629 non-null   object \n",
      " 1   imdb_id           1629 non-null   object \n",
      " 2   poster_path       1526 non-null   object \n",
      " 3   wiki_link         1629 non-null   object \n",
      " 4   title_y           1629 non-null   object \n",
      " 5   original_title    1629 non-null   object \n",
      " 6   is_adult          1629 non-null   int64  \n",
      " 7   year_of_release   1629 non-null   int64  \n",
      " 8   runtime           1629 non-null   object \n",
      " 9   genres            1629 non-null   object \n",
      " 10  imdb_rating       1629 non-null   float64\n",
      " 11  imdb_votes        1629 non-null   int64  \n",
      " 12  story             1609 non-null   object \n",
      " 13  summary           1629 non-null   object \n",
      " 14  tagline           557 non-null    object \n",
      " 15  actors            1624 non-null   object \n",
      " 16  wins_nominations  707 non-null    object \n",
      " 17  release_date      1522 non-null   object \n",
      "dtypes: float64(1), int64(3), object(14)\n",
      "memory usage: 229.2+ KB\n"
     ]
    }
   ],
   "source": [
    "df.info()"
   ]
  },
  {
   "cell_type": "code",
   "execution_count": 4,
   "metadata": {},
   "outputs": [],
   "source": [
    "df.drop(columns='poster_path', inplace=True)"
   ]
  },
  {
   "cell_type": "code",
   "execution_count": 5,
   "metadata": {},
   "outputs": [
    {
     "data": {
      "text/plain": [
       "title_x              0.0\n",
       "imdb_id              0.0\n",
       "wiki_link            0.0\n",
       "title_y              0.0\n",
       "original_title       0.0\n",
       "is_adult             0.0\n",
       "year_of_release      0.0\n",
       "runtime              0.0\n",
       "genres               0.0\n",
       "imdb_rating          0.0\n",
       "imdb_votes           0.0\n",
       "story                1.2\n",
       "summary              0.0\n",
       "tagline             65.8\n",
       "actors               0.3\n",
       "wins_nominations    56.6\n",
       "release_date         6.6\n",
       "dtype: float64"
      ]
     },
     "execution_count": 5,
     "metadata": {},
     "output_type": "execute_result"
    }
   ],
   "source": [
    "round(df.isnull().sum() / len(df) * 100, 1)"
   ]
  },
  {
   "cell_type": "code",
   "execution_count": null,
   "metadata": {},
   "outputs": [],
   "source": [
    "df.dropna(inplace=True)"
   ]
  },
  {
   "cell_type": "code",
   "execution_count": null,
   "metadata": {},
   "outputs": [
    {
     "data": {
      "text/plain": [
       "11      Ranveer Singh|Alia Bhatt|Siddhant Chaturvedi|V...\n",
       "34       Gavie Chahal|Mohan Agashe|Mohan Joshi|Lom Harsh|\n",
       "37      Ayushmann Khurrana|Nassar|Manoj Pahwa|Kumud Mi...\n",
       "87      Sidharth Malhotra|Manoj Bajpayee|Rakul Preet S...\n",
       "96      Ajay Devgn|Saurabh Shukla|Ileana D'Cruz|Amit S...\n",
       "                              ...                        \n",
       "1600    Divya Dutta|Sucheta Paushe|Lisa Ray|Apoorva Ag...\n",
       "1601    Anant Nag|Mita Vasisht|Nitya Shetty|Nikhil Yad...\n",
       "1607    Anil Kapoor|Rani Mukerji|Amrish Puri|Johnny Le...\n",
       "1621    Priyanshu Chatterjee|Himanshu Malik|Sandali Si...\n",
       "1623    Karisma Kapoor|Rekha|Manoj Bajpayee|Rajit Kapo...\n",
       "Name: actors, Length: 301, dtype: object"
      ]
     },
     "execution_count": 7,
     "metadata": {},
     "output_type": "execute_result"
    }
   ],
   "source": [
    "df['actors']"
   ]
  },
  {
   "cell_type": "code",
   "execution_count": null,
   "metadata": {},
   "outputs": [
    {
     "data": {
      "text/plain": [
       "11             Ranveer Singh\n",
       "34              Gavie Chahal\n",
       "37        Ayushmann Khurrana\n",
       "87         Sidharth Malhotra\n",
       "96                Ajay Devgn\n",
       "                ...         \n",
       "1600             Divya Dutta\n",
       "1601               Anant Nag\n",
       "1607             Anil Kapoor\n",
       "1621    Priyanshu Chatterjee\n",
       "1623          Karisma Kapoor\n",
       "Name: actors, Length: 301, dtype: object"
      ]
     },
     "execution_count": 8,
     "metadata": {},
     "output_type": "execute_result"
    }
   ],
   "source": [
    "df['actors'].str.split('|').apply(lambda y:y[0])"
   ]
  },
  {
   "cell_type": "code",
   "execution_count": null,
   "metadata": {},
   "outputs": [],
   "source": [
    "df['actors'] = df['actors'].str.split('|').apply(lambda y:y[0])"
   ]
  },
  {
   "cell_type": "code",
   "execution_count": null,
   "metadata": {},
   "outputs": [
    {
     "data": {
      "text/html": [
       "<div>\n",
       "<style scoped>\n",
       "    .dataframe tbody tr th:only-of-type {\n",
       "        vertical-align: middle;\n",
       "    }\n",
       "\n",
       "    .dataframe tbody tr th {\n",
       "        vertical-align: top;\n",
       "    }\n",
       "\n",
       "    .dataframe thead th {\n",
       "        text-align: right;\n",
       "    }\n",
       "</style>\n",
       "<table border=\"1\" class=\"dataframe\">\n",
       "  <thead>\n",
       "    <tr style=\"text-align: right;\">\n",
       "      <th></th>\n",
       "      <th>title_x</th>\n",
       "      <th>imdb_id</th>\n",
       "      <th>wiki_link</th>\n",
       "      <th>title_y</th>\n",
       "      <th>original_title</th>\n",
       "      <th>is_adult</th>\n",
       "      <th>year_of_release</th>\n",
       "      <th>runtime</th>\n",
       "      <th>genres</th>\n",
       "      <th>imdb_rating</th>\n",
       "      <th>imdb_votes</th>\n",
       "      <th>story</th>\n",
       "      <th>summary</th>\n",
       "      <th>tagline</th>\n",
       "      <th>actors</th>\n",
       "      <th>wins_nominations</th>\n",
       "      <th>release_date</th>\n",
       "    </tr>\n",
       "  </thead>\n",
       "  <tbody>\n",
       "    <tr>\n",
       "      <th>11</th>\n",
       "      <td>Gully Boy</td>\n",
       "      <td>tt2395469</td>\n",
       "      <td>https://en.wikipedia.org/wiki/Gully_Boy</td>\n",
       "      <td>Gully Boy</td>\n",
       "      <td>Gully Boy</td>\n",
       "      <td>0</td>\n",
       "      <td>2019</td>\n",
       "      <td>153</td>\n",
       "      <td>Drama|Music</td>\n",
       "      <td>8.2</td>\n",
       "      <td>22440</td>\n",
       "      <td>Gully Boy is a film about a 22-year-old boy \"M...</td>\n",
       "      <td>A coming-of-age story based on the lives of st...</td>\n",
       "      <td>Apna Time Aayega!</td>\n",
       "      <td>Ranveer Singh</td>\n",
       "      <td>6 wins &amp; 3 nominations</td>\n",
       "      <td>14 February 2019 (USA)</td>\n",
       "    </tr>\n",
       "    <tr>\n",
       "      <th>34</th>\n",
       "      <td>Yeh Hai India</td>\n",
       "      <td>tt5525846</td>\n",
       "      <td>https://en.wikipedia.org/wiki/Yeh_Hai_India</td>\n",
       "      <td>Yeh Hai India</td>\n",
       "      <td>Yeh Hai India</td>\n",
       "      <td>0</td>\n",
       "      <td>2017</td>\n",
       "      <td>128</td>\n",
       "      <td>Action|Adventure|Drama</td>\n",
       "      <td>5.7</td>\n",
       "      <td>169</td>\n",
       "      <td>Yeh Hai India  follows the story of a 25 years...</td>\n",
       "      <td>Yeh Hai India  follows the story of a 25 years...</td>\n",
       "      <td>A Film for Every Indian</td>\n",
       "      <td>Gavie Chahal</td>\n",
       "      <td>2 wins &amp; 1 nomination</td>\n",
       "      <td>24 May 2019 (India)</td>\n",
       "    </tr>\n",
       "  </tbody>\n",
       "</table>\n",
       "</div>"
      ],
      "text/plain": [
       "          title_x    imdb_id                                    wiki_link  \\\n",
       "11      Gully Boy  tt2395469      https://en.wikipedia.org/wiki/Gully_Boy   \n",
       "34  Yeh Hai India  tt5525846  https://en.wikipedia.org/wiki/Yeh_Hai_India   \n",
       "\n",
       "          title_y original_title  is_adult  year_of_release runtime  \\\n",
       "11      Gully Boy      Gully Boy         0             2019     153   \n",
       "34  Yeh Hai India  Yeh Hai India         0             2017     128   \n",
       "\n",
       "                    genres  imdb_rating  imdb_votes  \\\n",
       "11             Drama|Music          8.2       22440   \n",
       "34  Action|Adventure|Drama          5.7         169   \n",
       "\n",
       "                                                story  \\\n",
       "11  Gully Boy is a film about a 22-year-old boy \"M...   \n",
       "34  Yeh Hai India  follows the story of a 25 years...   \n",
       "\n",
       "                                              summary  \\\n",
       "11  A coming-of-age story based on the lives of st...   \n",
       "34  Yeh Hai India  follows the story of a 25 years...   \n",
       "\n",
       "                    tagline         actors        wins_nominations  \\\n",
       "11        Apna Time Aayega!  Ranveer Singh  6 wins & 3 nominations   \n",
       "34  A Film for Every Indian   Gavie Chahal   2 wins & 1 nomination   \n",
       "\n",
       "              release_date  \n",
       "11  14 February 2019 (USA)  \n",
       "34     24 May 2019 (India)  "
      ]
     },
     "execution_count": 10,
     "metadata": {},
     "output_type": "execute_result"
    }
   ],
   "source": [
    "df.head(2)"
   ]
  },
  {
   "cell_type": "code",
   "execution_count": null,
   "metadata": {},
   "outputs": [],
   "source": [
    "df['genres'] = df['genres'].str.split('|').apply(lambda x:x[0])"
   ]
  },
  {
   "cell_type": "code",
   "execution_count": null,
   "metadata": {},
   "outputs": [
    {
     "data": {
      "text/html": [
       "<div>\n",
       "<style scoped>\n",
       "    .dataframe tbody tr th:only-of-type {\n",
       "        vertical-align: middle;\n",
       "    }\n",
       "\n",
       "    .dataframe tbody tr th {\n",
       "        vertical-align: top;\n",
       "    }\n",
       "\n",
       "    .dataframe thead th {\n",
       "        text-align: right;\n",
       "    }\n",
       "</style>\n",
       "<table border=\"1\" class=\"dataframe\">\n",
       "  <thead>\n",
       "    <tr style=\"text-align: right;\">\n",
       "      <th></th>\n",
       "      <th>title_x</th>\n",
       "      <th>imdb_id</th>\n",
       "      <th>wiki_link</th>\n",
       "      <th>title_y</th>\n",
       "      <th>original_title</th>\n",
       "      <th>is_adult</th>\n",
       "      <th>year_of_release</th>\n",
       "      <th>runtime</th>\n",
       "      <th>genres</th>\n",
       "      <th>imdb_rating</th>\n",
       "      <th>imdb_votes</th>\n",
       "      <th>story</th>\n",
       "      <th>summary</th>\n",
       "      <th>tagline</th>\n",
       "      <th>actors</th>\n",
       "      <th>wins_nominations</th>\n",
       "      <th>release_date</th>\n",
       "    </tr>\n",
       "  </thead>\n",
       "  <tbody>\n",
       "    <tr>\n",
       "      <th>11</th>\n",
       "      <td>Gully Boy</td>\n",
       "      <td>tt2395469</td>\n",
       "      <td>https://en.wikipedia.org/wiki/Gully_Boy</td>\n",
       "      <td>Gully Boy</td>\n",
       "      <td>Gully Boy</td>\n",
       "      <td>0</td>\n",
       "      <td>2019</td>\n",
       "      <td>153</td>\n",
       "      <td>Drama</td>\n",
       "      <td>8.2</td>\n",
       "      <td>22440</td>\n",
       "      <td>Gully Boy is a film about a 22-year-old boy \"M...</td>\n",
       "      <td>A coming-of-age story based on the lives of st...</td>\n",
       "      <td>Apna Time Aayega!</td>\n",
       "      <td>Ranveer Singh</td>\n",
       "      <td>6 wins &amp; 3 nominations</td>\n",
       "      <td>14 February 2019 (USA)</td>\n",
       "    </tr>\n",
       "    <tr>\n",
       "      <th>34</th>\n",
       "      <td>Yeh Hai India</td>\n",
       "      <td>tt5525846</td>\n",
       "      <td>https://en.wikipedia.org/wiki/Yeh_Hai_India</td>\n",
       "      <td>Yeh Hai India</td>\n",
       "      <td>Yeh Hai India</td>\n",
       "      <td>0</td>\n",
       "      <td>2017</td>\n",
       "      <td>128</td>\n",
       "      <td>Action</td>\n",
       "      <td>5.7</td>\n",
       "      <td>169</td>\n",
       "      <td>Yeh Hai India  follows the story of a 25 years...</td>\n",
       "      <td>Yeh Hai India  follows the story of a 25 years...</td>\n",
       "      <td>A Film for Every Indian</td>\n",
       "      <td>Gavie Chahal</td>\n",
       "      <td>2 wins &amp; 1 nomination</td>\n",
       "      <td>24 May 2019 (India)</td>\n",
       "    </tr>\n",
       "  </tbody>\n",
       "</table>\n",
       "</div>"
      ],
      "text/plain": [
       "          title_x    imdb_id                                    wiki_link  \\\n",
       "11      Gully Boy  tt2395469      https://en.wikipedia.org/wiki/Gully_Boy   \n",
       "34  Yeh Hai India  tt5525846  https://en.wikipedia.org/wiki/Yeh_Hai_India   \n",
       "\n",
       "          title_y original_title  is_adult  year_of_release runtime  genres  \\\n",
       "11      Gully Boy      Gully Boy         0             2019     153   Drama   \n",
       "34  Yeh Hai India  Yeh Hai India         0             2017     128  Action   \n",
       "\n",
       "    imdb_rating  imdb_votes  \\\n",
       "11          8.2       22440   \n",
       "34          5.7         169   \n",
       "\n",
       "                                                story  \\\n",
       "11  Gully Boy is a film about a 22-year-old boy \"M...   \n",
       "34  Yeh Hai India  follows the story of a 25 years...   \n",
       "\n",
       "                                              summary  \\\n",
       "11  A coming-of-age story based on the lives of st...   \n",
       "34  Yeh Hai India  follows the story of a 25 years...   \n",
       "\n",
       "                    tagline         actors        wins_nominations  \\\n",
       "11        Apna Time Aayega!  Ranveer Singh  6 wins & 3 nominations   \n",
       "34  A Film for Every Indian   Gavie Chahal   2 wins & 1 nomination   \n",
       "\n",
       "              release_date  \n",
       "11  14 February 2019 (USA)  \n",
       "34     24 May 2019 (India)  "
      ]
     },
     "execution_count": 12,
     "metadata": {},
     "output_type": "execute_result"
    }
   ],
   "source": [
    "df.head(2)"
   ]
  },
  {
   "cell_type": "code",
   "execution_count": null,
   "metadata": {},
   "outputs": [],
   "source": [
    "# DROP ALL THE ROWS WITH NULL VALUES"
   ]
  },
  {
   "cell_type": "code",
   "execution_count": 14,
   "metadata": {},
   "outputs": [
    {
     "data": {
      "text/plain": [
       "Index(['title_x', 'imdb_id', 'wiki_link', 'title_y', 'original_title',\n",
       "       'is_adult', 'year_of_release', 'runtime', 'genres', 'imdb_rating',\n",
       "       'imdb_votes', 'story', 'summary', 'tagline', 'actors',\n",
       "       'wins_nominations', 'release_date'],\n",
       "      dtype='object')"
      ]
     },
     "execution_count": 14,
     "metadata": {},
     "output_type": "execute_result"
    }
   ],
   "source": [
    "df.columns"
   ]
  },
  {
   "cell_type": "code",
   "execution_count": null,
   "metadata": {},
   "outputs": [
    {
     "data": {
      "text/plain": [
       "genres\n",
       "Action       103\n",
       "Drama         86\n",
       "Comedy        66\n",
       "Crime         17\n",
       "Biography     15\n",
       "Adventure      8\n",
       "Horror         2\n",
       "Mystery        2\n",
       "Fantasy        1\n",
       "Thriller       1\n",
       "Name: count, dtype: int64"
      ]
     },
     "execution_count": 15,
     "metadata": {},
     "output_type": "execute_result"
    }
   ],
   "source": [
    "df['genres'].value_counts()"
   ]
  },
  {
   "cell_type": "code",
   "execution_count": 16,
   "metadata": {},
   "outputs": [
    {
     "data": {
      "text/plain": [
       "genres     year_of_release  release_date            \n",
       "Adventure  2001             15 June 2001 (USA)          2\n",
       "Crime      2003             10 October 2003 (India)     2\n",
       "Drama      2003             12 December 2003 (India)    2\n",
       "                            23 May 2003 (USA)           2\n",
       "                            24 October 2003 (India)     2\n",
       "                                                       ..\n",
       "Action     2004             25 June 2004 (India)        1\n",
       "                            26 November 2004 (India)    1\n",
       "                            27 August 2004 (India)      1\n",
       "                            30 April 2004 (India)       1\n",
       "Drama      2015             24 July 2015 (India)        1\n",
       "Name: count, Length: 295, dtype: int64"
      ]
     },
     "execution_count": 16,
     "metadata": {},
     "output_type": "execute_result"
    }
   ],
   "source": [
    "# value_counts\n",
    "df[['genres', 'year_of_release', 'release_date']].value_counts()"
   ]
  },
  {
   "cell_type": "code",
   "execution_count": null,
   "metadata": {},
   "outputs": [],
   "source": []
  }
 ],
 "metadata": {
  "kernelspec": {
   "display_name": "python-new",
   "language": "python",
   "name": "python3"
  },
  "language_info": {
   "codemirror_mode": {
    "name": "ipython",
    "version": 3
   },
   "file_extension": ".py",
   "mimetype": "text/x-python",
   "name": "python",
   "nbconvert_exporter": "python",
   "pygments_lexer": "ipython3",
   "version": "3.12.0"
  }
 },
 "nbformat": 4,
 "nbformat_minor": 2
}
