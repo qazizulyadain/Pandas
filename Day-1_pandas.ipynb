{
 "cells": [
  {
   "cell_type": "markdown",
   "metadata": {},
   "source": [
    "# **Pandas**"
   ]
  },
  {
   "cell_type": "markdown",
   "metadata": {},
   "source": [
    "The `Pandas library` in Python is an `open-source` `data manipulation and analysis library` that is widely used in `data science`, `AI`, and `machine learning`. It offers high-level data structures and tools that make it easy to work with structured data, especially when dealing with `large datasets`."
   ]
  },
  {
   "cell_type": "markdown",
   "metadata": {},
   "source": [
    "The `Pandas library` in Python is like a `super-organized tool` that helps you `manage` and `understand data`. Think of it as a combination of a powerful spreadsheet (like Excel) and a database, but all controlled through `Python`."
   ]
  },
  {
   "cell_type": "markdown",
   "metadata": {},
   "source": [
    "> ### Pandas helps you work with two main types of data:\n",
    "\n",
    "`Series`: Imagine a single column in Excel, where each item has a label or index. This is useful for lists or single columns of data.\n",
    "\n",
    "`DataFrame`: Think of a DataFrame as a full table with rows and columns, like a whole spreadsheet page where each column can hold different types of data (like numbers, words, or dates)."
   ]
  },
  {
   "cell_type": "markdown",
   "metadata": {},
   "source": [
    "> ### Pandas is designed to help you do things like:\n",
    "\n",
    "- Clean up data (fixing or filling in missing values, removing bad data)\n",
    "\n",
    "- Organize and filter data (find specific rows or groups)\n",
    "\n",
    "- Calculate summaries (like averages or counts)\n",
    "\n",
    "- Combine data from different tables\n",
    "\n",
    "- Visualize data (Pandas works well with chart libraries)"
   ]
  },
  {
   "cell_type": "markdown",
   "metadata": {},
   "source": [
    "> ### Where Do We Use Pandas?\n",
    "You can use Pandas anytime you’re dealing with a lot of structured data, like:\n",
    "\n",
    "- `Data Science`: Preparing and exploring data before you build a model\n",
    "\n",
    "- `Finance: `Analyzing stock prices, trends, or economic data\n",
    "\n",
    "- `Web Apps:` Storing, processing, and displaying data on the backend\n",
    "\n",
    "- `Machine Learning:` Prepping data so models can use it effectively\n",
    "\n",
    "- `Research:` Organizing experimental data for analysis\n",
    "\n",
    "> ### Why is Pandas Important for Data Science and AI?\n",
    "- `Cleaning and Preparing Data:` Data usually needs fixing before you can analyze it, like filling in missing info or removing outliers. Pandas makes this fast and easy.\n",
    "\n",
    "- `Exploring and Understanding Data:` Before making predictions, you need to understand your data (patterns, relationships, trends). Pandas makes it easy to explore and find insights.\n",
    "\n",
    "- `Handling Big Data Efficiently:` Pandas is optimized to handle large datasets so that you can work with big data without the usual slowdowns.\n",
    "\n",
    "- `Converting Data for AI:` Pandas can help format and transform data into a form that AI and machine learning models can understand.\n",
    "\n",
    "- `Works Well with Other Tools:` Pandas works smoothly with other libraries like NumPy (for math), Matplotlib (for charts), and Scikit-learn (for machine learning), making it a core part of data science in Python.\n",
    "\n",
    "In short, Pandas makes it easy to turn messy or complex data into organized, ready-to-use data for data science and AI.\n",
    "\n",
    "You can learn more about `Pandas` [here](https://pandas.pydata.org/about/index.html)\n"
   ]
  },
  {
   "cell_type": "markdown",
   "metadata": {},
   "source": [
    "---"
   ]
  },
  {
   "cell_type": "markdown",
   "metadata": {},
   "source": [
    "## **Download Pandas Library**"
   ]
  },
  {
   "cell_type": "code",
   "execution_count": 2,
   "metadata": {},
   "outputs": [],
   "source": [
    "# !pip install pandas -q"
   ]
  },
  {
   "cell_type": "markdown",
   "metadata": {},
   "source": [
    "## **Importing Libraries**"
   ]
  },
  {
   "cell_type": "code",
   "execution_count": 3,
   "metadata": {},
   "outputs": [],
   "source": [
    "import pandas as pd"
   ]
  },
  {
   "cell_type": "markdown",
   "metadata": {},
   "source": [
    "## **Series**"
   ]
  },
  {
   "cell_type": "markdown",
   "metadata": {},
   "source": [
    "\n",
    "A `Series` in Pandas is a `one-dimensional array-like structure` with `labels`, also known as an `index`, for each element. Think of a Series as a single column of data, similar to a list or column in a spreadsheet, where each entry has a specific label (index) that helps you locate it. A Series can hold various types of data, such as numbers, text, dates, or even more complex data types."
   ]
  },
  {
   "cell_type": "markdown",
   "metadata": {},
   "source": [
    "> ### Key Features of a Pandas Series:\n",
    "\n",
    "- `Values:` The actual data in the Series (e.g., numbers, strings).\n",
    "\n",
    "- `Index:` A set of labels that allows you to access each value quickly. If not specified, Pandas will create a \n",
    "default integer index starting from 0.\n",
    "\n",
    "- `Homogeneity:` Generally, all elements in a Series are of the same type, though it can technically hold mixed \n",
    "types.\n",
    "\n",
    "- `Flexible Indexing:` You can use the index to retrieve or manipulate specific elements quickly, similar to a dictionary."
   ]
  },
  {
   "cell_type": "markdown",
   "metadata": {},
   "source": [
    "### **Series from list**"
   ]
  },
  {
   "cell_type": "code",
   "execution_count": 4,
   "metadata": {},
   "outputs": [],
   "source": [
    "mobiles = ['Iphone', 'Samsung', 'Oppo', 'Vivo']"
   ]
  },
  {
   "cell_type": "code",
   "execution_count": 5,
   "metadata": {},
   "outputs": [
    {
     "data": {
      "text/plain": [
       "list"
      ]
     },
     "execution_count": 5,
     "metadata": {},
     "output_type": "execute_result"
    }
   ],
   "source": [
    "type(mobiles)"
   ]
  },
  {
   "cell_type": "code",
   "execution_count": 6,
   "metadata": {},
   "outputs": [
    {
     "data": {
      "text/plain": [
       "numpy.ndarray"
      ]
     },
     "execution_count": 6,
     "metadata": {},
     "output_type": "execute_result"
    }
   ],
   "source": [
    "import numpy as np\n",
    "\n",
    "type(np.array(mobiles))"
   ]
  },
  {
   "cell_type": "code",
   "execution_count": 7,
   "metadata": {},
   "outputs": [
    {
     "data": {
      "text/plain": [
       "0     Iphone\n",
       "1    Samsung\n",
       "2       Oppo\n",
       "3       Vivo\n",
       "dtype: object"
      ]
     },
     "execution_count": 7,
     "metadata": {},
     "output_type": "execute_result"
    }
   ],
   "source": [
    "pd.Series(mobiles)"
   ]
  },
  {
   "cell_type": "code",
   "execution_count": 8,
   "metadata": {},
   "outputs": [
    {
     "data": {
      "text/plain": [
       "pandas.core.series.Series"
      ]
     },
     "execution_count": 8,
     "metadata": {},
     "output_type": "execute_result"
    }
   ],
   "source": [
    "# string\n",
    "type(pd.Series(mobiles))"
   ]
  },
  {
   "cell_type": "code",
   "execution_count": 9,
   "metadata": {},
   "outputs": [
    {
     "data": {
      "text/plain": [
       "0        100\n",
       "1         30\n",
       "2         40\n",
       "3         20\n",
       "4    Hasnain\n",
       "5      Ahmad\n",
       "dtype: object"
      ]
     },
     "execution_count": 9,
     "metadata": {},
     "output_type": "execute_result"
    }
   ],
   "source": [
    "# integers\n",
    "marks = [100, 30, 40, 20, 'Hasnain', \"Ahmad\"]\n",
    "pd.Series(marks)"
   ]
  },
  {
   "cell_type": "code",
   "execution_count": 10,
   "metadata": {},
   "outputs": [],
   "source": [
    "import numpy as np"
   ]
  },
  {
   "cell_type": "code",
   "execution_count": 11,
   "metadata": {},
   "outputs": [
    {
     "data": {
      "text/plain": [
       "array(['100', '30', '40', '20', 'Hasnain', 'Ahmad'], dtype='<U21')"
      ]
     },
     "execution_count": 11,
     "metadata": {},
     "output_type": "execute_result"
    }
   ],
   "source": [
    "np.array(marks)"
   ]
  },
  {
   "cell_type": "code",
   "execution_count": 12,
   "metadata": {},
   "outputs": [
    {
     "data": {
      "text/plain": [
       "Maths      100\n",
       "Urdu        30\n",
       "Science     40\n",
       "English     20\n",
       "dtype: int64"
      ]
     },
     "execution_count": 12,
     "metadata": {},
     "output_type": "execute_result"
    }
   ],
   "source": [
    "# custom index\n",
    "marks = [100, 30, 40, 20]\n",
    "index = ['Maths', 'Urdu', 'Science', 'English']\n",
    "\n",
    "pd.Series(marks, index=index)"
   ]
  },
  {
   "cell_type": "code",
   "execution_count": 13,
   "metadata": {},
   "outputs": [
    {
     "data": {
      "text/plain": [
       "Maths      100\n",
       "Urdu        30\n",
       "Science     40\n",
       "English     20\n",
       "Name: Hasnain ke Marks, dtype: int64"
      ]
     },
     "execution_count": 13,
     "metadata": {},
     "output_type": "execute_result"
    }
   ],
   "source": [
    "# setting a name\n",
    "marks = [100, 30, 40, 20]\n",
    "index = ['Maths', 'Urdu', 'Science', 'English']\n",
    "\n",
    "pd.Series(marks, index=index, name='Hasnain ke Marks')"
   ]
  },
  {
   "cell_type": "markdown",
   "metadata": {},
   "source": [
    "#### `Examples of Series with Questions:`"
   ]
  },
  {
   "cell_type": "code",
   "execution_count": 14,
   "metadata": {},
   "outputs": [
    {
     "data": {
      "text/plain": [
       "     90%\n",
       "    100%\n",
       "      0%\n",
       "dtype: object"
      ]
     },
     "execution_count": 14,
     "metadata": {},
     "output_type": "execute_result"
    }
   ],
   "source": [
    "# Student Scores \n",
    "pd.Series(['90%', \"100%\", '0%'], index=['', '', ''])"
   ]
  },
  {
   "cell_type": "code",
   "execution_count": 15,
   "metadata": {},
   "outputs": [
    {
     "data": {
      "text/plain": [
       "Tamatar    100\n",
       "Piyaz       80\n",
       "Alu         90\n",
       "Adrak       40\n",
       "dtype: int64"
      ]
     },
     "execution_count": 15,
     "metadata": {},
     "output_type": "execute_result"
    }
   ],
   "source": [
    "# Monthly Expenses\n",
    "pd.Series([100, 80, 90, 40], index=['Tamatar', 'Piyaz', 'Alu', 'Adrak'])"
   ]
  },
  {
   "cell_type": "code",
   "execution_count": 16,
   "metadata": {},
   "outputs": [],
   "source": [
    "# Product Prices"
   ]
  }
 ],
 "metadata": {
  "kernelspec": {
   "display_name": "python-new",
   "language": "python",
   "name": "python3"
  },
  "language_info": {
   "codemirror_mode": {
    "name": "ipython",
    "version": 3
   },
   "file_extension": ".py",
   "mimetype": "text/x-python",
   "name": "python",
   "nbconvert_exporter": "python",
   "pygments_lexer": "ipython3",
   "version": "3.12.0"
  }
 },
 "nbformat": 4,
 "nbformat_minor": 2
}
