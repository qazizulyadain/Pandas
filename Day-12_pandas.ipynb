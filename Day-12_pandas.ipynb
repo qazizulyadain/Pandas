{
 "cells": [
  {
   "cell_type": "code",
   "execution_count": 1,
   "metadata": {},
   "outputs": [],
   "source": [
    "import pandas as pd\n",
    "import numpy as np"
   ]
  },
  {
   "cell_type": "code",
   "execution_count": 2,
   "metadata": {},
   "outputs": [],
   "source": [
    "movies = pd.read_csv('../lecture11/imdb-top-1000.csv')\n",
    "mobiles = pd.read_csv('../lecture10/mobiles.csv')"
   ]
  },
  {
   "cell_type": "code",
   "execution_count": 3,
   "metadata": {},
   "outputs": [
    {
     "data": {
      "text/html": [
       "<div>\n",
       "<style scoped>\n",
       "    .dataframe tbody tr th:only-of-type {\n",
       "        vertical-align: middle;\n",
       "    }\n",
       "\n",
       "    .dataframe tbody tr th {\n",
       "        vertical-align: top;\n",
       "    }\n",
       "\n",
       "    .dataframe thead th {\n",
       "        text-align: right;\n",
       "    }\n",
       "</style>\n",
       "<table border=\"1\" class=\"dataframe\">\n",
       "  <thead>\n",
       "    <tr style=\"text-align: right;\">\n",
       "      <th></th>\n",
       "      <th>Series_Title</th>\n",
       "      <th>Released_Year</th>\n",
       "      <th>Runtime</th>\n",
       "      <th>Genre</th>\n",
       "      <th>IMDB_Rating</th>\n",
       "      <th>Director</th>\n",
       "      <th>Star1</th>\n",
       "      <th>No_of_Votes</th>\n",
       "      <th>Gross</th>\n",
       "      <th>Metascore</th>\n",
       "    </tr>\n",
       "  </thead>\n",
       "  <tbody>\n",
       "    <tr>\n",
       "      <th>206</th>\n",
       "      <td>Kis Uykusu</td>\n",
       "      <td>2014</td>\n",
       "      <td>196</td>\n",
       "      <td>Drama</td>\n",
       "      <td>8.1</td>\n",
       "      <td>Nuri Bilge Ceylan</td>\n",
       "      <td>Haluk Bilginer</td>\n",
       "      <td>46547</td>\n",
       "      <td>165520.0</td>\n",
       "      <td>88.0</td>\n",
       "    </tr>\n",
       "    <tr>\n",
       "      <th>803</th>\n",
       "      <td>Rushmore</td>\n",
       "      <td>1998</td>\n",
       "      <td>93</td>\n",
       "      <td>Comedy</td>\n",
       "      <td>7.7</td>\n",
       "      <td>Wes Anderson</td>\n",
       "      <td>Jason Schwartzman</td>\n",
       "      <td>169229</td>\n",
       "      <td>17105219.0</td>\n",
       "      <td>86.0</td>\n",
       "    </tr>\n",
       "    <tr>\n",
       "      <th>98</th>\n",
       "      <td>American Beauty</td>\n",
       "      <td>1999</td>\n",
       "      <td>122</td>\n",
       "      <td>Drama</td>\n",
       "      <td>8.3</td>\n",
       "      <td>Sam Mendes</td>\n",
       "      <td>Kevin Spacey</td>\n",
       "      <td>1069738</td>\n",
       "      <td>130096601.0</td>\n",
       "      <td>84.0</td>\n",
       "    </tr>\n",
       "  </tbody>\n",
       "</table>\n",
       "</div>"
      ],
      "text/plain": [
       "        Series_Title Released_Year  Runtime   Genre  IMDB_Rating  \\\n",
       "206       Kis Uykusu          2014      196   Drama          8.1   \n",
       "803         Rushmore          1998       93  Comedy          7.7   \n",
       "98   American Beauty          1999      122   Drama          8.3   \n",
       "\n",
       "              Director              Star1  No_of_Votes        Gross  Metascore  \n",
       "206  Nuri Bilge Ceylan     Haluk Bilginer        46547     165520.0       88.0  \n",
       "803       Wes Anderson  Jason Schwartzman       169229   17105219.0       86.0  \n",
       "98          Sam Mendes       Kevin Spacey      1069738  130096601.0       84.0  "
      ]
     },
     "execution_count": 3,
     "metadata": {},
     "output_type": "execute_result"
    }
   ],
   "source": [
    "movies.sample(3)"
   ]
  },
  {
   "cell_type": "code",
   "execution_count": 4,
   "metadata": {},
   "outputs": [],
   "source": [
    "x = movies.groupby(['Director','Star1'])"
   ]
  },
  {
   "cell_type": "code",
   "execution_count": 5,
   "metadata": {},
   "outputs": [
    {
     "data": {
      "text/plain": [
       "Director             Star1         \n",
       "Aamir Khan           Amole Gupte       1\n",
       "Aaron Sorkin         Eddie Redmayne    1\n",
       "Abdellatif Kechiche  Léa Seydoux       1\n",
       "Abhishek Chaubey     Shahid Kapoor     1\n",
       "Abhishek Kapoor      Amit Sadh         1\n",
       "                                      ..\n",
       "Zaza Urushadze       Lembit Ulfsak     1\n",
       "Zoya Akhtar          Hrithik Roshan    1\n",
       "                     Vijay Varma       1\n",
       "Çagan Irmak          Çetin Tekindor    1\n",
       "Ömer Faruk Sorak     Cem Yilmaz        1\n",
       "Length: 898, dtype: int64"
      ]
     },
     "execution_count": 5,
     "metadata": {},
     "output_type": "execute_result"
    }
   ],
   "source": [
    "# size\n",
    "x.size()"
   ]
  },
  {
   "cell_type": "code",
   "execution_count": 6,
   "metadata": {},
   "outputs": [
    {
     "data": {
      "text/html": [
       "<div>\n",
       "<style scoped>\n",
       "    .dataframe tbody tr th:only-of-type {\n",
       "        vertical-align: middle;\n",
       "    }\n",
       "\n",
       "    .dataframe tbody tr th {\n",
       "        vertical-align: top;\n",
       "    }\n",
       "\n",
       "    .dataframe thead th {\n",
       "        text-align: right;\n",
       "    }\n",
       "</style>\n",
       "<table border=\"1\" class=\"dataframe\">\n",
       "  <thead>\n",
       "    <tr style=\"text-align: right;\">\n",
       "      <th></th>\n",
       "      <th>Series_Title</th>\n",
       "      <th>Released_Year</th>\n",
       "      <th>Runtime</th>\n",
       "      <th>Genre</th>\n",
       "      <th>IMDB_Rating</th>\n",
       "      <th>Director</th>\n",
       "      <th>Star1</th>\n",
       "      <th>No_of_Votes</th>\n",
       "      <th>Gross</th>\n",
       "      <th>Metascore</th>\n",
       "    </tr>\n",
       "  </thead>\n",
       "  <tbody>\n",
       "    <tr>\n",
       "      <th>366</th>\n",
       "      <td>G.O.R.A.</td>\n",
       "      <td>2004</td>\n",
       "      <td>127</td>\n",
       "      <td>Adventure</td>\n",
       "      <td>8.0</td>\n",
       "      <td>Ömer Faruk Sorak</td>\n",
       "      <td>Cem Yilmaz</td>\n",
       "      <td>56960</td>\n",
       "      <td>196206077.0</td>\n",
       "      <td>NaN</td>\n",
       "    </tr>\n",
       "  </tbody>\n",
       "</table>\n",
       "</div>"
      ],
      "text/plain": [
       "    Series_Title Released_Year  Runtime      Genre  IMDB_Rating  \\\n",
       "366     G.O.R.A.          2004      127  Adventure          8.0   \n",
       "\n",
       "             Director       Star1  No_of_Votes        Gross  Metascore  \n",
       "366  Ömer Faruk Sorak  Cem Yilmaz        56960  196206077.0        NaN  "
      ]
     },
     "execution_count": 6,
     "metadata": {},
     "output_type": "execute_result"
    }
   ],
   "source": [
    "# get_group\n",
    "x.get_group(('Ömer Faruk Sorak','Cem Yilmaz'))"
   ]
  },
  {
   "cell_type": "code",
   "execution_count": 7,
   "metadata": {},
   "outputs": [
    {
     "data": {
      "text/plain": [
       "Director              Star1          \n",
       "Akira Kurosawa        Toshirô Mifune     2.999877e+09\n",
       "Anthony Russo         Joe Russo          2.205039e+09\n",
       "Billy Wilder          William Holden     1.286779e+09\n",
       "Christopher Nolan     Christian Bale     1.242940e+09\n",
       "Werner Herzog         Klaus Kinski       1.124605e+09\n",
       "                                             ...     \n",
       "Jeong-beom Lee        Won Bin            6.460000e+03\n",
       "Shane Meadows         Paddy Considine    6.013000e+03\n",
       "Jaco Van Dormael      Jared Leto         3.600000e+03\n",
       "Thomas Jahn           Til Schweiger      3.296000e+03\n",
       "Anders Thomas Jensen  Ulrich Thomsen     1.305000e+03\n",
       "Name: Gross, Length: 898, dtype: float64"
      ]
     },
     "execution_count": 7,
     "metadata": {},
     "output_type": "execute_result"
    }
   ],
   "source": [
    "# find the most earning actor->director combo\n",
    "x['Gross'].sum().sort_values(ascending=False)"
   ]
  },
  {
   "cell_type": "code",
   "execution_count": 8,
   "metadata": {},
   "outputs": [],
   "source": [
    "y = movies.groupby(['Star1', 'Genre'])"
   ]
  },
  {
   "cell_type": "code",
   "execution_count": 9,
   "metadata": {},
   "outputs": [
    {
     "data": {
      "text/plain": [
       "Index(['Series_Title', 'Released_Year', 'Runtime', 'Genre', 'IMDB_Rating',\n",
       "       'Director', 'Star1', 'No_of_Votes', 'Gross', 'Metascore'],\n",
       "      dtype='object')"
      ]
     },
     "execution_count": 9,
     "metadata": {},
     "output_type": "execute_result"
    }
   ],
   "source": [
    "movies.columns"
   ]
  },
  {
   "cell_type": "code",
   "execution_count": 10,
   "metadata": {},
   "outputs": [
    {
     "data": {
      "text/plain": [
       "Star1             Genre    \n",
       "Peter O'Toole     Adventure    100.0\n",
       "Orson Welles      Drama        100.0\n",
       "Bertil Guve       Drama        100.0\n",
       "Ellar Coltrane    Drama        100.0\n",
       "Humphrey Bogart   Drama        100.0\n",
       "                               ...  \n",
       "William Holden    Drama          NaN\n",
       "Won Bin           Action         NaN\n",
       "Yash              Action         NaN\n",
       "Çetin Tekindor    Drama          NaN\n",
       "Ömer Faruk Sorak  Comedy         NaN\n",
       "Name: Metascore, Length: 829, dtype: float64"
      ]
     },
     "execution_count": 10,
     "metadata": {},
     "output_type": "execute_result"
    }
   ],
   "source": [
    "# find the best(in-terms of metascore(avg)) actor->genre combo\n",
    "y['Metascore'].mean().sort_values(ascending=False)"
   ]
  },
  {
   "cell_type": "code",
   "execution_count": null,
   "metadata": {},
   "outputs": [],
   "source": []
  }
 ],
 "metadata": {
  "kernelspec": {
   "display_name": "python-new",
   "language": "python",
   "name": "python3"
  },
  "language_info": {
   "codemirror_mode": {
    "name": "ipython",
    "version": 3
   },
   "file_extension": ".py",
   "mimetype": "text/x-python",
   "name": "python",
   "nbconvert_exporter": "python",
   "pygments_lexer": "ipython3",
   "version": "3.12.0"
  }
 },
 "nbformat": 4,
 "nbformat_minor": 2
}
